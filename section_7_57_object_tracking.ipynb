{
 "cells": [
  {
   "cell_type": "markdown",
   "metadata": {},
   "source": [
    "# Optical Flow\n",
    "* is the pattern of apparent motion of image objects between two consecutive frames caused by the movement of the object or the camera.\n",
    "\n",
    "## Assumptions\n",
    "* pixel intensities of an object do not change between the consecutive frames (e.g. a lightbulb that turns off and on between images will not be tracked)\n",
    "* neighbouring pixels have similar motion\n",
    "\n",
    "## How the algorithm works\n",
    "1. The optical flow methods in OpenCV will take a given set of points in a frame\n",
    "2. It will then attempt to find these points in the next frame\n",
    "\n",
    "## Methods: \n",
    "### Lucas-Kanade method - https://de.wikipedia.org/wiki/Lucas-Kanade-Methode :\n",
    "* computes optical flow for a sparse features set (-> points are given)\n",
    "\n",
    "### Gunner Farnersback's algorithm \n",
    "can be used to calculate dense optical flow.\n",
    "\n",
    "This algorithm calculates the flow for all points in an image.\n",
    "\n",
    "Only a movement (flow) will be highlighted, everything else will be colored black."
   ]
  },
  {
   "cell_type": "markdown",
   "metadata": {},
   "source": [
    "# Lucas-Kanade Method"
   ]
  },
  {
   "cell_type": "code",
   "execution_count": 2,
   "metadata": {},
   "outputs": [],
   "source": [
    "import numpy as np\n",
    "import cv2"
   ]
  },
  {
   "cell_type": "code",
   "execution_count": 3,
   "metadata": {},
   "outputs": [],
   "source": [
    "corner_track_params = dict(maxCorner=10, qualityLevel=0.3, minDistance=7, blockSize=7)"
   ]
  },
  {
   "cell_type": "code",
   "execution_count": 4,
   "metadata": {},
   "outputs": [],
   "source": [
    "# larger motions can be detected by larger winsize but it is more sensitive to noise\n",
    "# maxLevel is based on pyarmid for image processing: https://en.wikipedia.org/wiki/Pyramid_(image_processing) \n",
    "# criteria we use both, speed (count) vs. accuracy of the algorithm (eps)\n",
    "lucas_kanade_params = dict(winSize=(200,200), maxLevel=2, criteria=(cv2.TERM_CRITERIA_EPS | cv2.TERM_CRITERIA_COUNT, 10, 0.03)) "
   ]
  },
  {
   "cell_type": "code",
   "execution_count": null,
   "metadata": {},
   "outputs": [],
   "source": [
    "cap = cv2.VideoCapture(0)\n",
    "\n",
    "ret, prev_frame = cap.read()\n",
    "\n",
    "prev_gray = cv2.cvtColor(prev_frame, cv2.COLOR_BGR2GRAY)\n",
    "\n",
    "# Points to track\n",
    "prev_points = cv2.goodFeaturesToTrack(prev_gray, mask=None, **corner_track_params)\n",
    "\n",
    "mask = np.zeros_like(prev_frame) # visualization - zeros with the same size of the prev_frame\n",
    "\n",
    "while True:\n",
    "    ret, frame = cap.read()\n",
    "    frame_gray = cv2.cvtColor(frame, cv2.COLOR_BGR2GRAY)\n",
    "    # calculating the optical flow on the actual frame\n",
    "    next_points, status, err = cv2.calcOpticalFlowPyrLK(prev_gray, frame_gray, prev_points, None, **lucas_kanade_params)\n",
    "\n",
    "    "
   ]
  }
 ],
 "metadata": {
  "kernelspec": {
   "display_name": "Python 3",
   "language": "python",
   "name": "python3"
  },
  "language_info": {
   "codemirror_mode": {
    "name": "ipython",
    "version": 3
   },
   "file_extension": ".py",
   "mimetype": "text/x-python",
   "name": "python",
   "nbconvert_exporter": "python",
   "pygments_lexer": "ipython3",
   "version": "3.10.12"
  }
 },
 "nbformat": 4,
 "nbformat_minor": 2
}
