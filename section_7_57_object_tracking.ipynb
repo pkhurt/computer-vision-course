{
 "cells": [
  {
   "cell_type": "markdown",
   "metadata": {},
   "source": [
    "# Hint\n",
    "Kernel of jupyter python crashes when closing the window with \"esc\". That is a common problem on mac. Use the file in `scripts/object_tracking_with_webcam.py` if you want to use this file on mac.\n",
    "\n",
    "# Optical Flow & Dense Optical Flow\n",
    "Optical Flow is the pattern of apparent motion of image objects between two consecutive frames caused by the movement of the object or the camera.\n",
    "\n",
    "See documentaiton: https://docs.opencv.org/3.4/d4/dee/tutorial_optical_flow.html\n",
    "\n",
    "## Assumptions\n",
    "* pixel intensities of an object do not change between the consecutive frames (e.g. a lightbulb that turns off and on between images will not be tracked)\n",
    "* neighbouring pixels have similar motion\n",
    "\n",
    "## How the algorithm works\n",
    "1. The optical flow methods in OpenCV will take a given set of points in a frame\n",
    "2. It will then attempt to find these points in the next frame\n",
    "\n",
    "## Methods: \n",
    "### Lucas-Kanade method - https://de.wikipedia.org/wiki/Lucas-Kanade-Methode :\n",
    "* computes optical flow for a sparse features set (-> points are given)\n",
    "\n",
    "### Gunner Farnersback's algorithm \n",
    "can be used to calculate dense optical flow.\n",
    "\n",
    "This algorithm calculates the flow for all points in an image.\n",
    "\n",
    "Only a movement (flow) will be highlighted, everything else will be colored black."
   ]
  },
  {
   "cell_type": "markdown",
   "metadata": {},
   "source": [
    "# Lucas-Kanade Method"
   ]
  },
  {
   "cell_type": "code",
   "execution_count": 1,
   "metadata": {},
   "outputs": [],
   "source": [
    "import numpy as np\n",
    "import cv2"
   ]
  },
  {
   "cell_type": "code",
   "execution_count": 2,
   "metadata": {},
   "outputs": [],
   "source": [
    "corner_track_params = dict(maxCorners=10, qualityLevel=0.3, minDistance=7, blockSize=7)"
   ]
  },
  {
   "cell_type": "code",
   "execution_count": 3,
   "metadata": {},
   "outputs": [],
   "source": [
    "# larger motions can be detected by larger winsize but it is more sensitive to noise\n",
    "# maxLevel is based on pyarmid for image processing: https://en.wikipedia.org/wiki/Pyramid_(image_processing) \n",
    "# criteria we use both, speed (count) vs. accuracy of the algorithm (eps)\n",
    "lucas_kanade_params = dict(winSize=(200,200), maxLevel=2, criteria=(cv2.TERM_CRITERIA_EPS | cv2.TERM_CRITERIA_COUNT, 10, 0.03)) "
   ]
  },
  {
   "cell_type": "code",
   "execution_count": null,
   "metadata": {},
   "outputs": [],
   "source": []
  },
  {
   "cell_type": "code",
   "execution_count": 4,
   "metadata": {},
   "outputs": [
    {
     "ename": "",
     "evalue": "",
     "output_type": "error",
     "traceback": [
      "\u001b[1;31mThe Kernel crashed while executing code in the current cell or a previous cell. \n",
      "\u001b[1;31mPlease review the code in the cell(s) to identify a possible cause of the failure. \n",
      "\u001b[1;31mClick <a href='https://aka.ms/vscodeJupyterKernelCrash'>here</a> for more info. \n",
      "\u001b[1;31mView Jupyter <a href='command:jupyter.viewOutput'>log</a> for further details."
     ]
    }
   ],
   "source": [
    "cap = cv2.VideoCapture(0)\n",
    "cap.set(cv2.CAP_PROP_FPS, 60)\n",
    "ret, prev_frame = cap.read()\n",
    "\n",
    "prev_gray = cv2.cvtColor(prev_frame, cv2.COLOR_BGR2GRAY)\n",
    "\n",
    "# # Points to track\n",
    "prev_points = cv2.goodFeaturesToTrack(prev_gray, mask=None, **corner_track_params)\n",
    "\n",
    "mask = np.zeros_like(prev_frame) # visualization - zeros with the same size of the prev_frame\n",
    "\n",
    "while True:\n",
    "    ret, frame = cap.read()\n",
    "    frame_gray = cv2.cvtColor(frame, cv2.COLOR_BGR2GRAY)\n",
    "    # calculating the optical flow on the actual frame\n",
    "    next_points, status, err = cv2.calcOpticalFlowPyrLK(prev_gray, frame_gray, prev_points, None, **lucas_kanade_params)\n",
    "\n",
    "    good_new = next_points[status==1]\n",
    "    good_prev = prev_points[status==1]\n",
    "\n",
    "    for i, (new, prev) in enumerate(zip(good_new, good_prev)):\n",
    "        x_new, y_new = new.ravel() # reshape / flattening out an array -> 2d to 1d\n",
    "        x_prev, y_prev = prev.ravel()\n",
    "\n",
    "        mask = cv2.line(mask, (int(x_new), int(y_new)), (int(x_prev), int(y_prev)), (0,255,0), 3)\n",
    "        frame = cv2.circle(frame, (int(x_new), int(y_new)), 8, (0,0,255), -1)\n",
    "    img = cv2.add(frame, mask)\n",
    "    cv2.imshow(\"tracking\", img)\n",
    "\n",
    "    k = cv2.waitKey(30) & 0xFF\n",
    "    if k == 27:\n",
    "        break\n",
    "\n",
    "    prev_gray = frame_gray.copy()\n",
    "\n",
    "    prev_points = good_new.reshape(-1,1,2)\n",
    "\n",
    "cv2.destroyAllWindows()\n",
    "cap.release()\n",
    "\n",
    "    "
   ]
  },
  {
   "cell_type": "markdown",
   "metadata": {},
   "source": [
    "# Dense Optical Flow\n",
    "The difference to before is, that we now color the points and identify which points are moving."
   ]
  },
  {
   "cell_type": "code",
   "execution_count": null,
   "metadata": {},
   "outputs": [],
   "source": [
    "cap = cv2.VideoCapture(0)\n",
    "\n",
    "ret, frame1 = cap.read()\n",
    "\n",
    "prvsImg = cv2.cvtColor(frame1, cv2.COLOR_BGR2GRAY)\n",
    "\n",
    "hsv_mask = np.zeros_like(frame1)\n",
    "hsv_mask[:,:,1] = 255\n",
    "\n",
    "while True:\n",
    "    ret, frame2 = cap.read()\n",
    "    nextImg = cv2.cv5tColor(frame2, cv2.COLOR_BGR2GRAY)\n",
    "\n",
    "    flow = cv2.calcOpticalFlowFarneback(prvsImg, nextImg, None, 0.5, 3, 15, 3, 5, 1.2, 0)\n",
    "\n",
    "    # flow contains the flow vectors for each pixel\n",
    "    # it is a 2d array with the same size as the input image\n",
    "\n",
    "    mag, ang = cv2.cartToPolar(flow[:,:,0], flow[:,:,1], angleInDegrees=True) # magnitude and angle from vertical and horizontal information\n",
    "\n",
    "    hsv_mask[:,:,0] = ang/2 # that way we can see the direction of the flow and see the angle from 0 to 180\n",
    "\n",
    "    hsv_mask[:,:,2] = cv2.normalize(mag, None, 0, 255, cv2.NORM_MINMAX) # actual value defined by the actual magnitude\n",
    "\n",
    "    bgr = cv2.cvtColor(hsv_mask, cv2.COLOR_HSV2BGR)\n",
    "    cv2.imshow(\"frame\", bgr)\n",
    "\n",
    "    k = cv2.waitKey(10) & 0xFF\n",
    "    if k == 27: # esc key\n",
    "        break\n",
    "\n",
    "    prvsImg = nextImg # update the previous image\n",
    "\n",
    "cap.release()\n",
    "cv2.destroyAllWindows()"
   ]
  }
 ],
 "metadata": {
  "kernelspec": {
   "display_name": "Python 3",
   "language": "python",
   "name": "python3"
  },
  "language_info": {
   "codemirror_mode": {
    "name": "ipython",
    "version": 3
   },
   "file_extension": ".py",
   "mimetype": "text/x-python",
   "name": "python",
   "nbconvert_exporter": "python",
   "pygments_lexer": "ipython3",
   "version": "3.12.4"
  }
 },
 "nbformat": 4,
 "nbformat_minor": 2
}
