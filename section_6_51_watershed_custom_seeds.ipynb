{
 "cells": [
  {
   "cell_type": "markdown",
   "metadata": {},
   "source": [
    "# Custom Seeds with Watershed algorithm\n",
    "## Description\n",
    "In this notebook an image will be taken and by clicking on the image it will be possible to segment the image in different regions by different colors. This will be done by using custom seeds when clicking on the image. The click position will define the seed and do the segmentation using the watershed algorithm.\n",
    "\n",
    "The watershed algorithm will be called and does the segmentation automatically. \n",
    "\n",
    "To see how it works have a look into the previous notebook.\n",
    "\n",
    "## How to use / execute this notebook\n",
    "1. \"run all\" cells of the notebook\n",
    "2. Two images will pop up, one original and one black one\n",
    "3. to choose a color press one of the numbers on the keyboard (for example \"1\")\n",
    "4. Then click on an interesting region in the original image <br> the black image will be colored.\n",
    "5. Then click another number\n",
    "6. click on a different interesting region that is separated from the other region\n",
    "\n",
    "One will see the colors are filling the segmentations of the image"
   ]
  },
  {
   "cell_type": "code",
   "execution_count": null,
   "metadata": {},
   "outputs": [
    {
     "ename": "",
     "evalue": "",
     "output_type": "error",
     "traceback": [
      "\u001b[1;31mRunning cells with 'Python 3.12.4' requires the ipykernel package.\n",
      "\u001b[1;31mRun the following command to install 'ipykernel' into the Python environment. \n",
      "\u001b[1;31mCommand: '/opt/homebrew/bin/python3 -m pip install ipykernel -U --user --force-reinstall'"
     ]
    }
   ],
   "source": [
    "import cv2\n",
    "import numpy as np"
   ]
  },
  {
   "cell_type": "code",
   "execution_count": null,
   "metadata": {},
   "outputs": [
    {
     "ename": "",
     "evalue": "",
     "output_type": "error",
     "traceback": [
      "\u001b[1;31mRunning cells with 'Python 3.12.4' requires the ipykernel package.\n",
      "\u001b[1;31mRun the following command to install 'ipykernel' into the Python environment. \n",
      "\u001b[1;31mCommand: '/opt/homebrew/bin/python3 -m pip install ipykernel -U --user --force-reinstall'"
     ]
    }
   ],
   "source": [
    "deadvlei = cv2.imread(\"images/deadvlei.jpeg\")\n",
    "deadvlei_copy = np.copy(deadvlei)"
   ]
  },
  {
   "cell_type": "code",
   "execution_count": null,
   "metadata": {},
   "outputs": [
    {
     "ename": "",
     "evalue": "",
     "output_type": "error",
     "traceback": [
      "\u001b[1;31mRunning cells with 'Python 3.12.4' requires the ipykernel package.\n",
      "\u001b[1;31mRun the following command to install 'ipykernel' into the Python environment. \n",
      "\u001b[1;31mCommand: '/opt/homebrew/bin/python3 -m pip install ipykernel -U --user --force-reinstall'"
     ]
    }
   ],
   "source": [
    "marker_image = np.zeros(deadvlei.shape[:2], dtype=np.int32)\n",
    "segments = np.zeros(deadvlei.shape, dtype=np.uint8)"
   ]
  },
  {
   "cell_type": "code",
   "execution_count": null,
   "metadata": {},
   "outputs": [
    {
     "ename": "",
     "evalue": "",
     "output_type": "error",
     "traceback": [
      "\u001b[1;31mRunning cells with 'Python 3.12.4' requires the ipykernel package.\n",
      "\u001b[1;31mRun the following command to install 'ipykernel' into the Python environment. \n",
      "\u001b[1;31mCommand: '/opt/homebrew/bin/python3 -m pip install ipykernel -U --user --force-reinstall'"
     ]
    }
   ],
   "source": [
    "marker_image.shape"
   ]
  },
  {
   "cell_type": "code",
   "execution_count": null,
   "metadata": {},
   "outputs": [
    {
     "ename": "",
     "evalue": "",
     "output_type": "error",
     "traceback": [
      "\u001b[1;31mRunning cells with 'Python 3.12.4' requires the ipykernel package.\n",
      "\u001b[1;31mRun the following command to install 'ipykernel' into the Python environment. \n",
      "\u001b[1;31mCommand: '/opt/homebrew/bin/python3 -m pip install ipykernel -U --user --force-reinstall'"
     ]
    }
   ],
   "source": [
    "segments.shape"
   ]
  },
  {
   "cell_type": "code",
   "execution_count": null,
   "metadata": {},
   "outputs": [
    {
     "ename": "",
     "evalue": "",
     "output_type": "error",
     "traceback": [
      "\u001b[1;31mRunning cells with 'Python 3.12.4' requires the ipykernel package.\n",
      "\u001b[1;31mRun the following command to install 'ipykernel' into the Python environment. \n",
      "\u001b[1;31mCommand: '/opt/homebrew/bin/python3 -m pip install ipykernel -U --user --force-reinstall'"
     ]
    }
   ],
   "source": [
    "# Using matplotlib colormapping: https://matplotlib.org/stable/users/explain/colors/colormaps.html \n",
    "from matplotlib import cm\n",
    "cm.tab10(0) # Returns: red, green, blue, alpha parameter"
   ]
  },
  {
   "cell_type": "code",
   "execution_count": null,
   "metadata": {},
   "outputs": [
    {
     "ename": "",
     "evalue": "",
     "output_type": "error",
     "traceback": [
      "\u001b[1;31mRunning cells with 'Python 3.12.4' requires the ipykernel package.\n",
      "\u001b[1;31mRun the following command to install 'ipykernel' into the Python environment. \n",
      "\u001b[1;31mCommand: '/opt/homebrew/bin/python3 -m pip install ipykernel -U --user --force-reinstall'"
     ]
    }
   ],
   "source": [
    "def create_rgb(i):\n",
    "    return tuple(np.array(cm.tab10(i)[:3])*255) # we want to have this between 0 and 255"
   ]
  },
  {
   "cell_type": "code",
   "execution_count": null,
   "metadata": {},
   "outputs": [
    {
     "ename": "",
     "evalue": "",
     "output_type": "error",
     "traceback": [
      "\u001b[1;31mRunning cells with 'Python 3.12.4' requires the ipykernel package.\n",
      "\u001b[1;31mRun the following command to install 'ipykernel' into the Python environment. \n",
      "\u001b[1;31mCommand: '/opt/homebrew/bin/python3 -m pip install ipykernel -U --user --force-reinstall'"
     ]
    }
   ],
   "source": [
    "# create a list of colors\n",
    "colors = []\n",
    "for i in range(10):\n",
    "    colors.append(create_rgb(i))"
   ]
  },
  {
   "cell_type": "code",
   "execution_count": null,
   "metadata": {},
   "outputs": [
    {
     "ename": "",
     "evalue": "",
     "output_type": "error",
     "traceback": [
      "\u001b[1;31mRunning cells with 'Python 3.12.4' requires the ipykernel package.\n",
      "\u001b[1;31mRun the following command to install 'ipykernel' into the Python environment. \n",
      "\u001b[1;31mCommand: '/opt/homebrew/bin/python3 -m pip install ipykernel -U --user --force-reinstall'"
     ]
    }
   ],
   "source": [
    "### \n",
    "# Global variables\n",
    "n_markers = 10 # 0-9 markers available\n",
    "current_marker = 1 # Color choice\n",
    "marks_updated = False # Markers updated by watershed\n",
    "\n",
    "# Callback function\n",
    "def mouse_callback(event, x, y, flags, param):\n",
    "    global marks_updated\n",
    "\n",
    "    if event == cv2.EVENT_LBUTTONDOWN:\n",
    "        # Markes passed to the watershed algo\n",
    "        cv2.circle(marker_image, (x,y), 10, (current_marker), -1)\n",
    "\n",
    "        # User sees on the image\n",
    "        cv2.circle(deadvlei_copy, (x,y), 10, colors[current_marker], -1)\n",
    "\n",
    "        marks_updated = True\n",
    "\n",
    "# While image is open\n",
    "cv2.namedWindow(\"image\")\n",
    "cv2.setMouseCallback(\"image\", mouse_callback)\n",
    "\n",
    "while True:\n",
    "    cv2.imshow(\"watershed segments\", segments)\n",
    "    cv2.imshow(\"image\", deadvlei_copy)\n",
    "\n",
    "    # Close all windows\n",
    "    k = cv2.waitKey(1)\n",
    "    if k == 27: # esc key pressed\n",
    "        break\n",
    "\n",
    "    # clearing all the colors press \"c\" key\n",
    "    # resetting both images to the initial image\n",
    "    elif k == ord(\"c\"):\n",
    "        deadvlei_copy = deadvlei.copy()\n",
    "        marker_image = np.zeros(deadvlei.shape[:2], dtype=np.int32)\n",
    "        segments = np.zeros(deadvlei.shape, dtype=np.uint8)\n",
    "\n",
    "    # update color choice\n",
    "    # get the keyboard press as character (like \"2\") and then get the integer\n",
    "    # to be able to index colors[] list\n",
    "    elif k > 0 and chr(k).isdigit():\n",
    "        current_marker = int(chr(k))\n",
    "\n",
    "    # update the markings\n",
    "    if marks_updated:\n",
    "        marker_image_copy = marker_image.copy()\n",
    "        cv2.watershed(deadvlei, marker_image_copy)\n",
    "\n",
    "        segments = np.zeros(deadvlei.shape, dtype=np.uint8)\n",
    "\n",
    "        # coloring the index\n",
    "        for color_index in range(n_markers):\n",
    "            segments[marker_image_copy == (color_index)] = colors[color_index]\n",
    "\n",
    "\n",
    "\n",
    "cv2.destroyAllWindows()"
   ]
  },
  {
   "cell_type": "code",
   "execution_count": null,
   "metadata": {},
   "outputs": [
    {
     "ename": "",
     "evalue": "",
     "output_type": "error",
     "traceback": [
      "\u001b[1;31mRunning cells with 'Python 3.12.4' requires the ipykernel package.\n",
      "\u001b[1;31mRun the following command to install 'ipykernel' into the Python environment. \n",
      "\u001b[1;31mCommand: '/opt/homebrew/bin/python3 -m pip install ipykernel -U --user --force-reinstall'"
     ]
    }
   ],
   "source": [
    "type(colors)"
   ]
  },
  {
   "cell_type": "code",
   "execution_count": null,
   "metadata": {},
   "outputs": [
    {
     "ename": "",
     "evalue": "",
     "output_type": "error",
     "traceback": [
      "\u001b[1;31mRunning cells with 'Python 3.12.4' requires the ipykernel package.\n",
      "\u001b[1;31mRun the following command to install 'ipykernel' into the Python environment. \n",
      "\u001b[1;31mCommand: '/opt/homebrew/bin/python3 -m pip install ipykernel -U --user --force-reinstall'"
     ]
    }
   ],
   "source": [
    "print(colors[1])"
   ]
  }
 ],
 "metadata": {
  "kernelspec": {
   "display_name": "Python 3",
   "language": "python",
   "name": "python3"
  },
  "language_info": {
   "codemirror_mode": {
    "name": "ipython",
    "version": 3
   },
   "file_extension": ".py",
   "mimetype": "text/x-python",
   "name": "python",
   "nbconvert_exporter": "python",
   "pygments_lexer": "ipython3",
   "version": "3.12.4"
  }
 },
 "nbformat": 4,
 "nbformat_minor": 2
}
