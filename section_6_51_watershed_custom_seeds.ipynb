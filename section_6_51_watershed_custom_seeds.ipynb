{
 "cells": [
  {
   "cell_type": "markdown",
   "metadata": {},
   "source": [
    "# Custom Seeds with Watershed algorithm\n",
    "## Description\n",
    "In this notebook an image will be taken and by clicking on the image it will be possible to segment the image in different regions by different colors. This will be done by using custom seeds when clicking on the image. The click position will define the seed and do the segmentation using the watershed algorithm\n",
    "\n",
    "## How to use / execute this notebook\n",
    "1. \"run all\" cells of the notebook\n",
    "2. Two images will pop up, one original and one black one\n",
    "3. to choose a color press one of the numbers on the keyboard (for example \"1\")\n",
    "4. Then click on an interesting region in the original image <br> the black image will be colored.\n",
    "5. Then click another number\n",
    "6. click on a different interesting region that is separated from the other region\n",
    "\n",
    "One will see the colors are filling the segmentations of the image"
   ]
  },
  {
   "cell_type": "code",
   "execution_count": 42,
   "metadata": {},
   "outputs": [],
   "source": [
    "import cv2\n",
    "import numpy as np"
   ]
  },
  {
   "cell_type": "code",
   "execution_count": 43,
   "metadata": {},
   "outputs": [],
   "source": [
    "deadvlei = cv2.imread(\"images/deadvlei.jpeg\")\n",
    "deadvlei_copy = np.copy(deadvlei)"
   ]
  },
  {
   "cell_type": "code",
   "execution_count": 44,
   "metadata": {},
   "outputs": [],
   "source": [
    "marker_image = np.zeros(deadvlei.shape[:2], dtype=np.int32)\n",
    "segments = np.zeros(deadvlei.shape, dtype=np.uint8)"
   ]
  },
  {
   "cell_type": "code",
   "execution_count": 45,
   "metadata": {},
   "outputs": [
    {
     "data": {
      "text/plain": [
       "(960, 720)"
      ]
     },
     "execution_count": 45,
     "metadata": {},
     "output_type": "execute_result"
    }
   ],
   "source": [
    "marker_image.shape"
   ]
  },
  {
   "cell_type": "code",
   "execution_count": 46,
   "metadata": {},
   "outputs": [
    {
     "data": {
      "text/plain": [
       "(960, 720, 3)"
      ]
     },
     "execution_count": 46,
     "metadata": {},
     "output_type": "execute_result"
    }
   ],
   "source": [
    "segments.shape"
   ]
  },
  {
   "cell_type": "code",
   "execution_count": 47,
   "metadata": {},
   "outputs": [
    {
     "data": {
      "text/plain": [
       "(0.12156862745098039, 0.4666666666666667, 0.7058823529411765, 1.0)"
      ]
     },
     "execution_count": 47,
     "metadata": {},
     "output_type": "execute_result"
    }
   ],
   "source": [
    "# Using matplotlib colormapping: https://matplotlib.org/stable/users/explain/colors/colormaps.html \n",
    "from matplotlib import cm\n",
    "cm.tab10(0) # Returns: red, green, blue, alpha parameter"
   ]
  },
  {
   "cell_type": "code",
   "execution_count": 48,
   "metadata": {},
   "outputs": [],
   "source": [
    "def create_rgb(i):\n",
    "    return tuple(np.array(cm.tab10(i)[:3])*255) # we want to have this between 0 and 255"
   ]
  },
  {
   "cell_type": "code",
   "execution_count": 49,
   "metadata": {},
   "outputs": [],
   "source": [
    "# create a list of colors\n",
    "colors = []\n",
    "for i in range(10):\n",
    "    colors.append(create_rgb(i))"
   ]
  },
  {
   "cell_type": "code",
   "execution_count": 50,
   "metadata": {},
   "outputs": [],
   "source": [
    "### \n",
    "# Global variables\n",
    "n_markers = 10 # 0-9 markers available\n",
    "current_marker = 1 # Color choice\n",
    "marks_updated = False # Markers updated by watershed\n",
    "\n",
    "# Callback function\n",
    "def mouse_callback(event, x, y, flags, param):\n",
    "    global marks_updated\n",
    "\n",
    "    if event == cv2.EVENT_LBUTTONDOWN:\n",
    "        # Markes passed to the watershed algo\n",
    "        cv2.circle(marker_image, (x,y), 10, (current_marker), -1)\n",
    "\n",
    "        # User sees on the image\n",
    "        cv2.circle(deadvlei_copy, (x,y), 10, colors[current_marker], -1)\n",
    "\n",
    "        marks_updated = True\n",
    "\n",
    "# While image is open\n",
    "cv2.namedWindow(\"image\")\n",
    "cv2.setMouseCallback(\"image\", mouse_callback)\n",
    "\n",
    "while True:\n",
    "    cv2.imshow(\"watershed segments\", segments)\n",
    "    cv2.imshow(\"image\", deadvlei_copy)\n",
    "\n",
    "    # Close all windows\n",
    "    k = cv2.waitKey(1)\n",
    "    if k == 27: # esc key pressed\n",
    "        break\n",
    "\n",
    "    # clearing all the colors press \"c\" key\n",
    "    # resetting both images to the initial image\n",
    "    elif k == ord(\"c\"):\n",
    "        deadvlei_copy = deadvlei.copy()\n",
    "        marker_image = np.zeros(deadvlei.shape[:2], dtype=np.int32)\n",
    "        segments = np.zeros(deadvlei.shape, dtype=np.uint8)\n",
    "\n",
    "    # update color choice\n",
    "    # get the keyboard press as character (like \"2\") and then get the integer\n",
    "    # to be able to index colors[] list\n",
    "    elif k > 0 and chr(k).isdigit():\n",
    "        current_marker = int(chr(k))\n",
    "\n",
    "    # update the markings\n",
    "    if marks_updated:\n",
    "        marker_image_copy = marker_image.copy()\n",
    "        cv2.watershed(deadvlei, marker_image_copy)\n",
    "\n",
    "        segments = np.zeros(deadvlei.shape, dtype=np.uint8)\n",
    "\n",
    "        # coloring the index\n",
    "        for color_index in range(n_markers):\n",
    "            segments[marker_image_copy == (color_index)] = colors[color_index]\n",
    "\n",
    "\n",
    "\n",
    "cv2.destroyAllWindows()"
   ]
  },
  {
   "cell_type": "code",
   "execution_count": 51,
   "metadata": {},
   "outputs": [
    {
     "data": {
      "text/plain": [
       "list"
      ]
     },
     "execution_count": 51,
     "metadata": {},
     "output_type": "execute_result"
    }
   ],
   "source": [
    "type(colors)"
   ]
  },
  {
   "cell_type": "code",
   "execution_count": 52,
   "metadata": {},
   "outputs": [
    {
     "name": "stdout",
     "output_type": "stream",
     "text": [
      "(255.0, 127.0, 14.0)\n"
     ]
    }
   ],
   "source": [
    "print(colors[1])"
   ]
  },
  {
   "cell_type": "code",
   "execution_count": null,
   "metadata": {},
   "outputs": [],
   "source": []
  }
 ],
 "metadata": {
  "kernelspec": {
   "display_name": "Python 3",
   "language": "python",
   "name": "python3"
  },
  "language_info": {
   "codemirror_mode": {
    "name": "ipython",
    "version": 3
   },
   "file_extension": ".py",
   "mimetype": "text/x-python",
   "name": "python",
   "nbconvert_exporter": "python",
   "pygments_lexer": "ipython3",
   "version": "3.8.10"
  }
 },
 "nbformat": 4,
 "nbformat_minor": 2
}
