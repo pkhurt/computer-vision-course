{
 "cells": [
  {
   "cell_type": "code",
   "execution_count": 52,
   "metadata": {},
   "outputs": [],
   "source": [
    "import numpy as np\n",
    "import pandas as pd\n",
    "from sklearn.model_selection import train_test_split\n",
    "from sklearn.preprocessing import MinMaxScaler\n",
    "from keras.models import Sequential\n",
    "from keras.layers import Dense\n",
    "from sklearn.metrics import confusion_matrix, classification_report\n",
    "from kears.models import load_model"
   ]
  },
  {
   "cell_type": "code",
   "execution_count": 38,
   "metadata": {},
   "outputs": [],
   "source": [
    "df = pd.read_csv(\"./data/banknotes.csv\")"
   ]
  },
  {
   "cell_type": "code",
   "execution_count": 39,
   "metadata": {},
   "outputs": [
    {
     "name": "stdout",
     "output_type": "stream",
     "text": [
      "      variace  skewness  curtosis  entropy  class\n",
      "0     3.62160   8.66610   -2.8073 -0.44699      0\n",
      "1     4.54590   8.16740   -2.4586 -1.46210      0\n",
      "2     3.86600  -2.63830    1.9242  0.10645      0\n",
      "3     3.45660   9.52280   -4.0112 -3.59440      0\n",
      "4     0.32924  -4.45520    4.5718 -0.98880      0\n",
      "...       ...       ...       ...      ...    ...\n",
      "1367  0.40614   1.34920   -1.4501 -0.55949      1\n",
      "1368 -1.38870  -4.87730    6.4774  0.34179      1\n",
      "1369 -3.75030 -13.45860   17.5932 -2.77710      1\n",
      "1370 -3.56370  -8.38270   12.3930 -1.28230      1\n",
      "1371 -2.54190  -0.65804    2.6842  1.19520      1\n",
      "\n",
      "[1372 rows x 5 columns]\n"
     ]
    }
   ],
   "source": [
    "print(df)\n",
    "# Investigation of the data: Class means the label, if it is a real bill or not. 0 = fake, 1 = authentic"
   ]
  },
  {
   "cell_type": "code",
   "execution_count": 40,
   "metadata": {},
   "outputs": [],
   "source": [
    "# Separating labels (class column) from the data\n",
    "labels = np.array(df[\"class\"])"
   ]
  },
  {
   "cell_type": "code",
   "execution_count": 43,
   "metadata": {},
   "outputs": [],
   "source": [
    "features = df.drop(\"class\", axis = 1)\n",
    "features = np.array(features)"
   ]
  },
  {
   "cell_type": "code",
   "execution_count": 42,
   "metadata": {},
   "outputs": [],
   "source": [
    "# Split data into training and test set\n",
    "X = features # mathematical notation\n",
    "y = labels"
   ]
  },
  {
   "cell_type": "code",
   "execution_count": 45,
   "metadata": {},
   "outputs": [],
   "source": [
    "# The ratio of the split, 33% will be test set\n",
    "# X = X_train + X_test\n",
    "X_train, X_test, y_train, y_test = train_test_split(X, y, test_size=0.33, random_state=42)"
   ]
  },
  {
   "cell_type": "code",
   "execution_count": 44,
   "metadata": {},
   "outputs": [],
   "source": [
    "# Better performance when the data is scaled between a certain range (e.g 0..1)\n",
    "scaler_object = MinMaxScaler()\n",
    "# Fit the scaler to the training data\n",
    "scaler_object.fit(X_train) # finds the min and max value of the train value\n",
    "scaled_X_train = scaler_object.transform(X_train)\n",
    "scaled_X_test = scaler_object.transform(X_test)\n",
    "# We only fit to the train and test set, only fit on the x_train. If we would fit to the whole data X we assume knowledge about the\n",
    "# original data that we should not have."
   ]
  },
  {
   "cell_type": "code",
   "execution_count": 46,
   "metadata": {},
   "outputs": [
    {
     "name": "stdout",
     "output_type": "stream",
     "text": [
      "Epoch 1/50\n"
     ]
    },
    {
     "name": "stderr",
     "output_type": "stream",
     "text": [
      "/home/peter/.local/lib/python3.10/site-packages/keras/src/layers/core/dense.py:87: UserWarning: Do not pass an `input_shape`/`input_dim` argument to a layer. When using Sequential models, prefer using an `Input(shape)` object as the first layer in the model instead.\n",
      "  super().__init__(activity_regularizer=activity_regularizer, **kwargs)\n"
     ]
    },
    {
     "name": "stdout",
     "output_type": "stream",
     "text": [
      "29/29 - 1s - 19ms/step - accuracy: 0.5495 - loss: 0.6972\n",
      "Epoch 2/50\n",
      "29/29 - 0s - 923us/step - accuracy: 0.5495 - loss: 0.6835\n",
      "Epoch 3/50\n",
      "29/29 - 0s - 903us/step - accuracy: 0.5495 - loss: 0.6732\n",
      "Epoch 4/50\n",
      "29/29 - 0s - 886us/step - accuracy: 0.5495 - loss: 0.6636\n",
      "Epoch 5/50\n",
      "29/29 - 0s - 869us/step - accuracy: 0.5495 - loss: 0.6541\n",
      "Epoch 6/50\n",
      "29/29 - 0s - 875us/step - accuracy: 0.5626 - loss: 0.6401\n",
      "Epoch 7/50\n",
      "29/29 - 0s - 945us/step - accuracy: 0.6670 - loss: 0.6187\n",
      "Epoch 8/50\n",
      "29/29 - 0s - 944us/step - accuracy: 0.7356 - loss: 0.5947\n",
      "Epoch 9/50\n",
      "29/29 - 0s - 893us/step - accuracy: 0.7682 - loss: 0.5711\n",
      "Epoch 10/50\n",
      "29/29 - 0s - 860us/step - accuracy: 0.7671 - loss: 0.5496\n",
      "Epoch 11/50\n",
      "29/29 - 0s - 860us/step - accuracy: 0.7802 - loss: 0.5299\n",
      "Epoch 12/50\n",
      "29/29 - 0s - 906us/step - accuracy: 0.7933 - loss: 0.5110\n",
      "Epoch 13/50\n",
      "29/29 - 0s - 1ms/step - accuracy: 0.8020 - loss: 0.4937\n",
      "Epoch 14/50\n",
      "29/29 - 0s - 1ms/step - accuracy: 0.8150 - loss: 0.4654\n",
      "Epoch 15/50\n",
      "29/29 - 0s - 894us/step - accuracy: 0.8368 - loss: 0.4421\n",
      "Epoch 16/50\n",
      "29/29 - 0s - 881us/step - accuracy: 0.8564 - loss: 0.4215\n",
      "Epoch 17/50\n",
      "29/29 - 0s - 895us/step - accuracy: 0.8683 - loss: 0.4037\n",
      "Epoch 18/50\n",
      "29/29 - 0s - 852us/step - accuracy: 0.8727 - loss: 0.3874\n",
      "Epoch 19/50\n",
      "29/29 - 0s - 974us/step - accuracy: 0.8738 - loss: 0.3712\n",
      "Epoch 20/50\n",
      "29/29 - 0s - 915us/step - accuracy: 0.8770 - loss: 0.3568\n",
      "Epoch 21/50\n",
      "29/29 - 0s - 1ms/step - accuracy: 0.8868 - loss: 0.3434\n",
      "Epoch 22/50\n",
      "29/29 - 0s - 961us/step - accuracy: 0.8912 - loss: 0.3295\n",
      "Epoch 23/50\n",
      "29/29 - 0s - 926us/step - accuracy: 0.8945 - loss: 0.3163\n",
      "Epoch 24/50\n",
      "29/29 - 0s - 981us/step - accuracy: 0.8966 - loss: 0.3044\n",
      "Epoch 25/50\n",
      "29/29 - 0s - 880us/step - accuracy: 0.9021 - loss: 0.2927\n",
      "Epoch 26/50\n",
      "29/29 - 0s - 884us/step - accuracy: 0.9053 - loss: 0.2821\n",
      "Epoch 27/50\n",
      "29/29 - 0s - 860us/step - accuracy: 0.9108 - loss: 0.2711\n",
      "Epoch 28/50\n",
      "29/29 - 0s - 904us/step - accuracy: 0.9184 - loss: 0.2611\n",
      "Epoch 29/50\n",
      "29/29 - 0s - 863us/step - accuracy: 0.9227 - loss: 0.2515\n",
      "Epoch 30/50\n",
      "29/29 - 0s - 1ms/step - accuracy: 0.9282 - loss: 0.2422\n",
      "Epoch 31/50\n",
      "29/29 - 0s - 1ms/step - accuracy: 0.9325 - loss: 0.2337\n",
      "Epoch 32/50\n",
      "29/29 - 0s - 875us/step - accuracy: 0.9347 - loss: 0.2247\n",
      "Epoch 33/50\n",
      "29/29 - 0s - 863us/step - accuracy: 0.9380 - loss: 0.2166\n",
      "Epoch 34/50\n",
      "29/29 - 0s - 861us/step - accuracy: 0.9380 - loss: 0.2092\n",
      "Epoch 35/50\n",
      "29/29 - 0s - 907us/step - accuracy: 0.9402 - loss: 0.2014\n",
      "Epoch 36/50\n",
      "29/29 - 0s - 1000us/step - accuracy: 0.9434 - loss: 0.1942\n",
      "Epoch 37/50\n",
      "29/29 - 0s - 970us/step - accuracy: 0.9402 - loss: 0.1881\n",
      "Epoch 38/50\n",
      "29/29 - 0s - 930us/step - accuracy: 0.9445 - loss: 0.1815\n",
      "Epoch 39/50\n",
      "29/29 - 0s - 893us/step - accuracy: 0.9434 - loss: 0.1755\n",
      "Epoch 40/50\n",
      "29/29 - 0s - 927us/step - accuracy: 0.9478 - loss: 0.1697\n",
      "Epoch 41/50\n",
      "29/29 - 0s - 868us/step - accuracy: 0.9499 - loss: 0.1632\n",
      "Epoch 42/50\n",
      "29/29 - 0s - 846us/step - accuracy: 0.9499 - loss: 0.1578\n",
      "Epoch 43/50\n",
      "29/29 - 0s - 870us/step - accuracy: 0.9510 - loss: 0.1535\n",
      "Epoch 44/50\n",
      "29/29 - 0s - 861us/step - accuracy: 0.9576 - loss: 0.1481\n",
      "Epoch 45/50\n",
      "29/29 - 0s - 908us/step - accuracy: 0.9565 - loss: 0.1429\n",
      "Epoch 46/50\n",
      "29/29 - 0s - 859us/step - accuracy: 0.9565 - loss: 0.1391\n",
      "Epoch 47/50\n",
      "29/29 - 0s - 851us/step - accuracy: 0.9587 - loss: 0.1342\n",
      "Epoch 48/50\n",
      "29/29 - 0s - 954us/step - accuracy: 0.9641 - loss: 0.1302\n",
      "Epoch 49/50\n",
      "29/29 - 0s - 908us/step - accuracy: 0.9652 - loss: 0.1268\n",
      "Epoch 50/50\n",
      "29/29 - 0s - 897us/step - accuracy: 0.9652 - loss: 0.1227\n"
     ]
    },
    {
     "data": {
      "text/plain": [
       "<keras.src.callbacks.history.History at 0x7724287b7d90>"
      ]
     },
     "execution_count": 46,
     "metadata": {},
     "output_type": "execute_result"
    }
   ],
   "source": [
    "# Build simple network with keras\n",
    "model = Sequential()\n",
    "\n",
    "# Add a densely connected layer -> adding neurons\n",
    "# Dense(num_neurons, input dimensions, activation rule)\n",
    "model.add(Dense(4, input_dim=4, activation=\"relu\"))\n",
    "model.add(Dense(8, activation=\"relu\"))\n",
    "model.add(Dense(1, activation=\"sigmoid\"))\n",
    "\n",
    "model.compile(loss=\"binary_crossentropy\", optimizer=\"adam\", metrics=[\"accuracy\"])\n",
    "\n",
    "model.fit(scaled_X_train, y_train, epochs=50, verbose=2)\n",
    "# Verbose is the output information. Accuracy is based on training model"
   ]
  },
  {
   "cell_type": "code",
   "execution_count": 53,
   "metadata": {},
   "outputs": [
    {
     "name": "stdout",
     "output_type": "stream",
     "text": [
      "\u001b[1m15/15\u001b[0m \u001b[32m━━━━━━━━━━━━━━━━━━━━\u001b[0m\u001b[37m\u001b[0m \u001b[1m0s\u001b[0m 520us/step\n"
     ]
    },
    {
     "data": {
      "text/plain": [
       "array([[253,   4],\n",
       "       [ 11, 185]])"
      ]
     },
     "execution_count": 53,
     "metadata": {},
     "output_type": "execute_result"
    }
   ],
   "source": [
    "# How do we predict on new data\n",
    "predictions = (model.predict(scaled_X_test) > 0.5).astype(\"int32\")\n",
    "confusion_matrix(y_test, predictions)"
   ]
  },
  {
   "cell_type": "code",
   "execution_count": 54,
   "metadata": {},
   "outputs": [
    {
     "name": "stdout",
     "output_type": "stream",
     "text": [
      "              precision    recall  f1-score   support\n",
      "\n",
      "           0       0.96      0.98      0.97       257\n",
      "           1       0.98      0.94      0.96       196\n",
      "\n",
      "    accuracy                           0.97       453\n",
      "   macro avg       0.97      0.96      0.97       453\n",
      "weighted avg       0.97      0.97      0.97       453\n",
      "\n"
     ]
    }
   ],
   "source": [
    "print(classification_report(y_test, predictions))\n",
    "# Observation; Well classification -> 97 % all over the board"
   ]
  },
  {
   "cell_type": "code",
   "execution_count": 55,
   "metadata": {},
   "outputs": [
    {
     "name": "stderr",
     "output_type": "stream",
     "text": [
      "WARNING:absl:You are saving your model as an HDF5 file via `model.save()` or `keras.saving.save_model(model)`. This file format is considered legacy. We recommend using instead the native Keras format, e.g. `model.save('my_model.keras')` or `keras.saving.save_model(model, 'my_model.keras')`. \n"
     ]
    }
   ],
   "source": [
    "# Save the trained model\n",
    "model.save(\"data/trained-bill-classification-model.h5\")"
   ]
  },
  {
   "cell_type": "code",
   "execution_count": null,
   "metadata": {},
   "outputs": [],
   "source": [
    "# To load the trained model one can run this\n",
    "my_bill_classification_model = load_model(\"\")"
   ]
  }
 ],
 "metadata": {
  "kernelspec": {
   "display_name": "Python 3",
   "language": "python",
   "name": "python3"
  },
  "language_info": {
   "codemirror_mode": {
    "name": "ipython",
    "version": 3
   },
   "file_extension": ".py",
   "mimetype": "text/x-python",
   "name": "python",
   "nbconvert_exporter": "python",
   "pygments_lexer": "ipython3",
   "version": "3.10.12"
  }
 },
 "nbformat": 4,
 "nbformat_minor": 2
}
