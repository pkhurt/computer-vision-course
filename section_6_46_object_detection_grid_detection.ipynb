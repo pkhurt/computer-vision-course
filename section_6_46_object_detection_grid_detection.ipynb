{
  "nbformat": 4,
  "nbformat_minor": 0,
  "metadata": {
    "colab": {
      "provenance": [],
      "mount_file_id": "1kdNqXPSkiumtCELPGREKSLR0qmNqbDRz",
      "authorship_tag": "ABX9TyMzKtUxK+KNHbZHEF7UxECn",
      "include_colab_link": true
    },
    "kernelspec": {
      "name": "python3",
      "display_name": "Python 3"
    },
    "language_info": {
      "name": "python"
    }
  },
  "cells": [
    {
      "cell_type": "markdown",
      "metadata": {
        "id": "view-in-github",
        "colab_type": "text"
      },
      "source": [
        "<a href=\"https://colab.research.google.com/github/pkhurt/computer-vision-course/blob/main/section_6_46_object_detection_grid_detection.ipynb\" target=\"_parent\"><img src=\"https://colab.research.google.com/assets/colab-badge.svg\" alt=\"Open In Colab\"/></a>"
      ]
    },
    {
      "cell_type": "code",
      "execution_count": 1,
      "metadata": {
        "id": "QZHqllPTAbEV"
      },
      "outputs": [],
      "source": [
        "import cv2\n",
        "import numpy as np\n",
        "import matplotlib.pyplot as plt\n",
        "%matplotlib inline\n",
        "DATA_DIR = \"/content/drive/MyDrive/udemy/python_for_computervision_opencv/DATA/\""
      ]
    },
    {
      "cell_type": "code",
      "source": [
        "flat_chess = cv2.imread(DATA_DIR + \"flat_chessboard.png\")\n",
        "plt.imshow(flat_chess)"
      ],
      "metadata": {
        "colab": {
          "base_uri": "https://localhost:8080/",
          "height": 452
        },
        "id": "gJkZnJSGAquY",
        "outputId": "1059fd82-b198-4b58-92e7-26abb6eed5e0"
      },
      "execution_count": 2,
      "outputs": [
        {
          "output_type": "execute_result",
          "data": {
            "text/plain": [
              "<matplotlib.image.AxesImage at 0x7d8d1b14ec80>"
            ]
          },
          "metadata": {},
          "execution_count": 2
        },
        {
          "output_type": "display_data",
          "data": {
            "text/plain": [
              "<Figure size 640x480 with 1 Axes>"
            ],
            "image/png": "[encoded data removed]"
          },
          "metadata": {}
        }
      ]
    },
    {
      "cell_type": "code",
      "source": [
        "# Grid should be specifically made as chessboard, the algo will only look for this pattern\n",
        "found, corners = cv2.findChessboardCorners(flat_chess, (7,7))"
      ],
      "metadata": {
        "id": "c_MeBaNrA7Pt"
      },
      "execution_count": 4,
      "outputs": []
    },
    {
      "cell_type": "code",
      "source": [
        "found"
      ],
      "metadata": {
        "colab": {
          "base_uri": "https://localhost:8080/"
        },
        "id": "3cH6mN8OBRQn",
        "outputId": "fa568df0-e902-443c-bded-b1a4e2f3f893"
      },
      "execution_count": 5,
      "outputs": [
        {
          "output_type": "execute_result",
          "data": {
            "text/plain": [
              "True"
            ]
          },
          "metadata": {},
          "execution_count": 5
        }
      ]
    },
    {
      "cell_type": "code",
      "source": [
        "corners"
      ],
      "metadata": {
        "colab": {
          "base_uri": "https://localhost:8080/"
        },
        "id": "-ZaX1KVIBSt5",
        "outputId": "c12bcf32-8652-4c8d-8950-404118972ed1"
      },
      "execution_count": 6,
      "outputs": [
        {
          "output_type": "execute_result",
          "data": {
            "text/plain": [
              "array([[[ 43.500004,  43.500004]],\n",
              "\n",
              "       [[ 87.5     ,  43.5     ]],\n",
              "\n",
              "       [[131.5     ,  43.5     ]],\n",
              "\n",
              "       [[175.5     ,  43.5     ]],\n",
              "\n",
              "       [[219.5     ,  43.5     ]],\n",
              "\n",
              "       [[263.5     ,  43.5     ]],\n",
              "\n",
              "       [[307.5     ,  43.5     ]],\n",
              "\n",
              "       [[ 43.499996,  87.50001 ]],\n",
              "\n",
              "       [[ 87.5     ,  87.5     ]],\n",
              "\n",
              "       [[131.5     ,  87.5     ]],\n",
              "\n",
              "       [[175.5     ,  87.5     ]],\n",
              "\n",
              "       [[219.5     ,  87.5     ]],\n",
              "\n",
              "       [[263.5     ,  87.5     ]],\n",
              "\n",
              "       [[307.5     ,  87.49999 ]],\n",
              "\n",
              "       [[ 43.500004, 131.5     ]],\n",
              "\n",
              "       [[ 87.5     , 131.5     ]],\n",
              "\n",
              "       [[131.5     , 131.5     ]],\n",
              "\n",
              "       [[175.5     , 131.5     ]],\n",
              "\n",
              "       [[219.5     , 131.5     ]],\n",
              "\n",
              "       [[263.5     , 131.5     ]],\n",
              "\n",
              "       [[307.5     , 131.5     ]],\n",
              "\n",
              "       [[ 43.499996, 175.5     ]],\n",
              "\n",
              "       [[ 87.5     , 175.5     ]],\n",
              "\n",
              "       [[131.5     , 175.5     ]],\n",
              "\n",
              "       [[175.5     , 175.5     ]],\n",
              "\n",
              "       [[219.5     , 175.5     ]],\n",
              "\n",
              "       [[263.5     , 175.5     ]],\n",
              "\n",
              "       [[307.5     , 175.5     ]],\n",
              "\n",
              "       [[ 43.500004, 219.5     ]],\n",
              "\n",
              "       [[ 87.5     , 219.5     ]],\n",
              "\n",
              "       [[131.5     , 219.5     ]],\n",
              "\n",
              "       [[175.5     , 219.5     ]],\n",
              "\n",
              "       [[219.5     , 219.5     ]],\n",
              "\n",
              "       [[263.5     , 219.5     ]],\n",
              "\n",
              "       [[307.5     , 219.5     ]],\n",
              "\n",
              "       [[ 43.499996, 263.5     ]],\n",
              "\n",
              "       [[ 87.5     , 263.5     ]],\n",
              "\n",
              "       [[131.5     , 263.5     ]],\n",
              "\n",
              "       [[175.5     , 263.5     ]],\n",
              "\n",
              "       [[219.5     , 263.5     ]],\n",
              "\n",
              "       [[263.5     , 263.5     ]],\n",
              "\n",
              "       [[307.5     , 263.5     ]],\n",
              "\n",
              "       [[ 43.5     , 307.5     ]],\n",
              "\n",
              "       [[ 87.5     , 307.5     ]],\n",
              "\n",
              "       [[131.5     , 307.5     ]],\n",
              "\n",
              "       [[175.5     , 307.5     ]],\n",
              "\n",
              "       [[219.5     , 307.5     ]],\n",
              "\n",
              "       [[263.5     , 307.5     ]],\n",
              "\n",
              "       [[307.5     , 307.5     ]]], dtype=float32)"
            ]
          },
          "metadata": {},
          "execution_count": 6
        }
      ]
    },
    {
      "cell_type": "code",
      "source": [
        "cv2.drawChessboardCorners(flat_chess, (7,7), corners, found)"
      ],
      "metadata": {
        "colab": {
          "base_uri": "https://localhost:8080/",
          "height": 390
        },
        "id": "LSWCZIWdBWLJ",
        "outputId": "0836ecf7-b03a-48b5-f5d1-25879235300c"
      },
      "execution_count": 7,
      "outputs": [
        {
          "output_type": "execute_result",
          "data": {
            "text/plain": [
              "array([[[158, 206, 255],\n",
              "        [158, 206, 255],\n",
              "        [158, 206, 255],\n",
              "        ...,\n",
              "        [ 71, 139, 209],\n",
              "        [ 71, 139, 209],\n",
              "        [ 71, 139, 209]],\n",
              "\n",
              "       [[158, 206, 255],\n",
              "        [158, 206, 255],\n",
              "        [158, 206, 255],\n",
              "        ...,\n",
              "        [ 71, 139, 209],\n",
              "        [ 71, 139, 209],\n",
              "        [ 71, 139, 209]],\n",
              "\n",
              "       [[158, 206, 255],\n",
              "        [158, 206, 255],\n",
              "        [158, 206, 255],\n",
              "        ...,\n",
              "        [ 71, 139, 209],\n",
              "        [ 71, 139, 209],\n",
              "        [ 71, 139, 209]],\n",
              "\n",
              "       ...,\n",
              "\n",
              "       [[ 71, 139, 209],\n",
              "        [ 71, 139, 209],\n",
              "        [ 71, 139, 209],\n",
              "        ...,\n",
              "        [158, 206, 255],\n",
              "        [158, 206, 255],\n",
              "        [158, 206, 255]],\n",
              "\n",
              "       [[ 71, 139, 209],\n",
              "        [ 71, 139, 209],\n",
              "        [ 71, 139, 209],\n",
              "        ...,\n",
              "        [158, 206, 255],\n",
              "        [158, 206, 255],\n",
              "        [158, 206, 255]],\n",
              "\n",
              "       [[ 71, 139, 209],\n",
              "        [ 71, 139, 209],\n",
              "        [ 71, 139, 209],\n",
              "        ...,\n",
              "        [158, 206, 255],\n",
              "        [158, 206, 255],\n",
              "        [158, 206, 255]]], dtype=uint8)"
            ],
            "text/html": [
              "<style>\n",
              "      .ndarray_repr .ndarray_raw_data {\n",
              "        display: none;\n",
              "      }\n",
              "      .ndarray_repr.show_array .ndarray_raw_data {\n",
              "        display: block;\n",
              "      }\n",
              "      .ndarray_repr.show_array .ndarray_image_preview {\n",
              "        display: none;\n",
              "      }\n",
              "      </style>\n",
              "      <div id=\"id-fd639edb-307d-4f92-bc76-e629a1c8d55e\" class=\"ndarray_repr\"><pre>ndarray (352, 352, 3) <button style=\"padding: 0 2px;\">show data</button></pre><img src=\"data:image/png;base64,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\" class=\"ndarray_image_preview\" /><pre class=\"ndarray_raw_data\">array([[[158, 206, 255],\n",
              "        [158, 206, 255],\n",
              "        [158, 206, 255],\n",
              "        ...,\n",
              "        [ 71, 139, 209],\n",
              "        [ 71, 139, 209],\n",
              "        [ 71, 139, 209]],\n",
              "\n",
              "       [[158, 206, 255],\n",
              "        [158, 206, 255],\n",
              "        [158, 206, 255],\n",
              "        ...,\n",
              "        [ 71, 139, 209],\n",
              "        [ 71, 139, 209],\n",
              "        [ 71, 139, 209]],\n",
              "\n",
              "       [[158, 206, 255],\n",
              "        [158, 206, 255],\n",
              "        [158, 206, 255],\n",
              "        ...,\n",
              "        [ 71, 139, 209],\n",
              "        [ 71, 139, 209],\n",
              "        [ 71, 139, 209]],\n",
              "\n",
              "       ...,\n",
              "\n",
              "       [[ 71, 139, 209],\n",
              "        [ 71, 139, 209],\n",
              "        [ 71, 139, 209],\n",
              "        ...,\n",
              "        [158, 206, 255],\n",
              "        [158, 206, 255],\n",
              "        [158, 206, 255]],\n",
              "\n",
              "       [[ 71, 139, 209],\n",
              "        [ 71, 139, 209],\n",
              "        [ 71, 139, 209],\n",
              "        ...,\n",
              "        [158, 206, 255],\n",
              "        [158, 206, 255],\n",
              "        [158, 206, 255]],\n",
              "\n",
              "       [[ 71, 139, 209],\n",
              "        [ 71, 139, 209],\n",
              "        [ 71, 139, 209],\n",
              "        ...,\n",
              "        [158, 206, 255],\n",
              "        [158, 206, 255],\n",
              "        [158, 206, 255]]], dtype=uint8)</pre></div><script>\n",
              "      (() => {\n",
              "      const titles = ['show data', 'hide data'];\n",
              "      let index = 0\n",
              "      document.querySelector('#id-fd639edb-307d-4f92-bc76-e629a1c8d55e button').onclick = (e) => {\n",
              "        document.querySelector('#id-fd639edb-307d-4f92-bc76-e629a1c8d55e').classList.toggle('show_array');\n",
              "        index = (++index) % 2;\n",
              "        document.querySelector('#id-fd639edb-307d-4f92-bc76-e629a1c8d55e button').textContent = titles[index];\n",
              "        e.preventDefault();\n",
              "        e.stopPropagation();\n",
              "      }\n",
              "      })();\n",
              "    </script>"
            ]
          },
          "metadata": {},
          "execution_count": 7
        }
      ]
    },
    {
      "cell_type": "code",
      "source": [
        "# circle based grids\n",
        "dots = cv2.imread(DATA_DIR + \"dot_grid.png\")\n",
        "plt.imshow(dots)"
      ],
      "metadata": {
        "colab": {
          "base_uri": "https://localhost:8080/",
          "height": 452
        },
        "id": "ryrjSmm6Bf33",
        "outputId": "25790605-d277-4cc6-f3cd-2c89514a5137"
      },
      "execution_count": 8,
      "outputs": [
        {
          "output_type": "execute_result",
          "data": {
            "text/plain": [
              "<matplotlib.image.AxesImage at 0x7d8d1aff1360>"
            ]
          },
          "metadata": {},
          "execution_count": 8
        },
        {
          "output_type": "display_data",
          "data": {
            "text/plain": [
              "<Figure size 640x480 with 1 Axes>"
            ],
            "image/png": "[encoded data removed]"
          },
          "metadata": {}
        }
      ]
    },
    {
      "cell_type": "code",
      "source": [
        "found, corners = cv2.findCirclesGrid(dots, (10,10), cv2.CALIB_CB_SYMMETRIC_GRID)\n",
        "cv2.drawChessboardCorners(dots, (10,10), corners, found)"
      ],
      "metadata": {
        "colab": {
          "base_uri": "https://localhost:8080/",
          "height": 638
        },
        "id": "rqzTTIhRCFw7",
        "outputId": "de2daad2-5fd0-4e2f-e560-e827adf3bd7d"
      },
      "execution_count": 9,
      "outputs": [
        {
          "output_type": "execute_result",
          "data": {
            "text/plain": [
              "array([[[255, 255, 255],\n",
              "        [255, 255, 255],\n",
              "        [255, 255, 255],\n",
              "        ...,\n",
              "        [255, 255, 255],\n",
              "        [255, 255, 255],\n",
              "        [255, 255, 255]],\n",
              "\n",
              "       [[255, 255, 255],\n",
              "        [255, 255, 255],\n",
              "        [255, 255, 255],\n",
              "        ...,\n",
              "        [255, 255, 255],\n",
              "        [255, 255, 255],\n",
              "        [255, 255, 255]],\n",
              "\n",
              "       [[255, 255, 255],\n",
              "        [255, 255, 255],\n",
              "        [255, 255, 255],\n",
              "        ...,\n",
              "        [255, 255, 255],\n",
              "        [255, 255, 255],\n",
              "        [255, 255, 255]],\n",
              "\n",
              "       ...,\n",
              "\n",
              "       [[255, 255, 255],\n",
              "        [255, 255, 255],\n",
              "        [255, 255, 255],\n",
              "        ...,\n",
              "        [255, 255, 255],\n",
              "        [255, 255, 255],\n",
              "        [255, 255, 255]],\n",
              "\n",
              "       [[255, 255, 255],\n",
              "        [255, 255, 255],\n",
              "        [255, 255, 255],\n",
              "        ...,\n",
              "        [255, 255, 255],\n",
              "        [255, 255, 255],\n",
              "        [255, 255, 255]],\n",
              "\n",
              "       [[255, 255, 255],\n",
              "        [255, 255, 255],\n",
              "        [255, 255, 255],\n",
              "        ...,\n",
              "        [255, 255, 255],\n",
              "        [255, 255, 255],\n",
              "        [255, 255, 255]]], dtype=uint8)"
            ],
            "text/html": [
              "<style>\n",
              "      .ndarray_repr .ndarray_raw_data {\n",
              "        display: none;\n",
              "      }\n",
              "      .ndarray_repr.show_array .ndarray_raw_data {\n",
              "        display: block;\n",
              "      }\n",
              "      .ndarray_repr.show_array .ndarray_image_preview {\n",
              "        display: none;\n",
              "      }\n",
              "      </style>\n",
              "      <div id=\"id-2759c4e8-f17e-4b7b-8375-fd7348a7d65f\" class=\"ndarray_repr\"><pre>ndarray (600, 600, 3) <button style=\"padding: 0 2px;\">show data</button></pre><img src=\"data:image/png;base64,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\" class=\"ndarray_image_preview\" /><pre class=\"ndarray_raw_data\">array([[[255, 255, 255],\n",
              "        [255, 255, 255],\n",
              "        [255, 255, 255],\n",
              "        ...,\n",
              "        [255, 255, 255],\n",
              "        [255, 255, 255],\n",
              "        [255, 255, 255]],\n",
              "\n",
              "       [[255, 255, 255],\n",
              "        [255, 255, 255],\n",
              "        [255, 255, 255],\n",
              "        ...,\n",
              "        [255, 255, 255],\n",
              "        [255, 255, 255],\n",
              "        [255, 255, 255]],\n",
              "\n",
              "       [[255, 255, 255],\n",
              "        [255, 255, 255],\n",
              "        [255, 255, 255],\n",
              "        ...,\n",
              "        [255, 255, 255],\n",
              "        [255, 255, 255],\n",
              "        [255, 255, 255]],\n",
              "\n",
              "       ...,\n",
              "\n",
              "       [[255, 255, 255],\n",
              "        [255, 255, 255],\n",
              "        [255, 255, 255],\n",
              "        ...,\n",
              "        [255, 255, 255],\n",
              "        [255, 255, 255],\n",
              "        [255, 255, 255]],\n",
              "\n",
              "       [[255, 255, 255],\n",
              "        [255, 255, 255],\n",
              "        [255, 255, 255],\n",
              "        ...,\n",
              "        [255, 255, 255],\n",
              "        [255, 255, 255],\n",
              "        [255, 255, 255]],\n",
              "\n",
              "       [[255, 255, 255],\n",
              "        [255, 255, 255],\n",
              "        [255, 255, 255],\n",
              "        ...,\n",
              "        [255, 255, 255],\n",
              "        [255, 255, 255],\n",
              "        [255, 255, 255]]], dtype=uint8)</pre></div><script>\n",
              "      (() => {\n",
              "      const titles = ['show data', 'hide data'];\n",
              "      let index = 0\n",
              "      document.querySelector('#id-2759c4e8-f17e-4b7b-8375-fd7348a7d65f button').onclick = (e) => {\n",
              "        document.querySelector('#id-2759c4e8-f17e-4b7b-8375-fd7348a7d65f').classList.toggle('show_array');\n",
              "        index = (++index) % 2;\n",
              "        document.querySelector('#id-2759c4e8-f17e-4b7b-8375-fd7348a7d65f button').textContent = titles[index];\n",
              "        e.preventDefault();\n",
              "        e.stopPropagation();\n",
              "      }\n",
              "      })();\n",
              "    </script>"
            ]
          },
          "metadata": {},
          "execution_count": 9
        }
      ]
    },
    {
      "cell_type": "code",
      "source": [],
      "metadata": {
        "id": "-LBdJpc5Cdtt"
      },
      "execution_count": null,
      "outputs": []
    }
  ]
}